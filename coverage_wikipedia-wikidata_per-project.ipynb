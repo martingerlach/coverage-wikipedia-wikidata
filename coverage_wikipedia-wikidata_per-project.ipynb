{
 "cells": [
  {
   "cell_type": "markdown",
   "metadata": {},
   "source": [
    "# Summary\n",
    "\n",
    "quantify the extent of missing sitelins in wikidata, i.e. the extent to which articles in wikipedia have not been linked to wikidata items\n"
   ]
  },
  {
   "cell_type": "code",
   "execution_count": 1,
   "metadata": {},
   "outputs": [],
   "source": [
    "import os, sys\n",
    "import datetime\n",
    "import calendar\n",
    "import time\n",
    "import pandas as pd\n",
    "import string\n",
    "import random\n",
    "\n",
    "import findspark\n",
    "findspark.init('/usr/lib/spark2')\n",
    "from pyspark.sql import SparkSession\n",
    "from pyspark.sql import functions as F, types as T, Window\n",
    "import wmfdata.spark as wmfspark\n"
   ]
  },
  {
   "cell_type": "code",
   "execution_count": 2,
   "metadata": {},
   "outputs": [
    {
     "data": {
      "text/html": [
       "\n",
       "            <div>\n",
       "                <p><b>SparkSession - hive</b></p>\n",
       "                \n",
       "        <div>\n",
       "            <p><b>SparkContext</b></p>\n",
       "\n",
       "            <p><a href=\"http://stat1005.eqiad.wmnet:4041\">Spark UI</a></p>\n",
       "\n",
       "            <dl>\n",
       "              <dt>Version</dt>\n",
       "                <dd><code>v2.4.4</code></dd>\n",
       "              <dt>Master</dt>\n",
       "                <dd><code>yarn</code></dd>\n",
       "              <dt>AppName</dt>\n",
       "                <dd><code>Pyspark notebook</code></dd>\n",
       "            </dl>\n",
       "        </div>\n",
       "        \n",
       "            </div>\n",
       "        "
      ],
      "text/plain": [
       "<pyspark.sql.session.SparkSession at 0x7f4b6d8e10b8>"
      ]
     },
     "execution_count": 2,
     "metadata": {},
     "output_type": "execute_result"
    }
   ],
   "source": [
    "## regular\n",
    "spark_config = {}\n",
    "spark_config = {\n",
    "    \"spark.driver.memory\": \"2g\",\n",
    "    \"spark.dynamicAllocation.maxExecutors\": 64,\n",
    "    \"spark.executor.memory\": \"8g\",\n",
    "    \"spark.executor.cores\": 4,\n",
    "    \"spark.sql.shuffle.partitions\": 256\n",
    "}\n",
    "spark_config = {}\n",
    "os.environ['PYSPARK_DRIVER_PYTHON'] = 'notebook'\n",
    "os.environ['PYSPARK_PYTHON'] = '/usr/bin/python3.5'\n",
    "\n",
    "spark = wmfspark.get_session(\n",
    "    app_name='Pyspark notebook', \n",
    "    extra_settings=spark_config\n",
    ")\n",
    "spark"
   ]
  },
  {
   "cell_type": "markdown",
   "metadata": {},
   "source": [
    "# Fraction of pages with a wikidata item for different wikis\n",
    "\n",
    "\n",
    "\n"
   ]
  },
  {
   "cell_type": "code",
   "execution_count": 64,
   "metadata": {},
   "outputs": [],
   "source": [
    "snapshot = '2020-03'\n",
    "col_wiki_pageid = F.concat(F.col('wiki_db'),F.lit('-'),F.col('page_id'))\n",
    "df_pages = (\n",
    "    spark.read.table('wmf_raw.mediawiki_page')   \n",
    "    .where(F.col('snapshot')==snapshot)\n",
    "    .where(F.col('wiki_db').endswith('wiki'))\n",
    "    .where(F.col('wiki_db')!='wikidatawiki')\n",
    "    .where(F.col('page_namespace')==0)\n",
    "    .where(F.col('page_is_redirect')==False)\n",
    "    .withColumn('wiki_pageid',col_wiki_pageid)\n",
    "    .select('wiki_pageid','wiki_db')\n",
    ")\n",
    "\n",
    "wd_snapshot = '2020-04-06'\n",
    "col_wiki_pageid = F.concat(F.col('wiki_db'),F.lit('-'),F.col('page_id'))\n",
    "df_wd = (\n",
    "    spark.read.table('wmf.wikidata_item_page_link')\n",
    "    .where(F.col('snapshot') == wd_snapshot)\n",
    "    .where(F.col('wiki_db').endswith('wiki'))\n",
    "    .where(F.col('wiki_db')!='wikidatawiki')\n",
    "    .where( F.col('page_namespace') == 0 )\n",
    "    .withColumn('wiki_pageid',col_wiki_pageid)\n",
    "    .select('wiki_pageid','item_id')\n",
    ")\n",
    "df_coverage = (\n",
    "    df_pages\n",
    "    .join(\n",
    "        df_wd,\n",
    "        on='wiki_pageid',\n",
    "        how='left_outer'\n",
    "    )\n",
    "    .withColumn(\n",
    "        'sitelink_exist',\n",
    "        F.coalesce(F.col('item_id').isNotNull().cast('int'),F.lit(0))\n",
    "    )\n",
    ")\n",
    "df_count = (df_coverage\n",
    "    .groupBy('wiki_db')\n",
    "    .agg(\n",
    "         F.count(F.col('sitelink_exist')).alias('N_pages'),\n",
    "         F.sum(F.col('sitelink_exist')).alias('N_sitelinks')\n",
    "    )\n",
    "    .withColumn(\n",
    "        'fraction_sitelinks',\n",
    "        F.col('N_sitelinks')/F.col('N_pages')\n",
    "    )\n",
    "    .orderBy('N_pages',ascending=False)\n",
    ").toPandas()"
   ]
  },
  {
   "cell_type": "code",
   "execution_count": 68,
   "metadata": {
    "scrolled": true
   },
   "outputs": [
    {
     "data": {
      "text/html": [
       "<div>\n",
       "<style scoped>\n",
       "    .dataframe tbody tr th:only-of-type {\n",
       "        vertical-align: middle;\n",
       "    }\n",
       "\n",
       "    .dataframe tbody tr th {\n",
       "        vertical-align: top;\n",
       "    }\n",
       "\n",
       "    .dataframe thead th {\n",
       "        text-align: right;\n",
       "    }\n",
       "</style>\n",
       "<table border=\"1\" class=\"dataframe\">\n",
       "  <thead>\n",
       "    <tr style=\"text-align: right;\">\n",
       "      <th></th>\n",
       "      <th>wiki_db</th>\n",
       "      <th>N_pages</th>\n",
       "      <th>N_sitelinks</th>\n",
       "      <th>fraction_sitelinks</th>\n",
       "    </tr>\n",
       "  </thead>\n",
       "  <tbody>\n",
       "    <tr>\n",
       "      <th>0</th>\n",
       "      <td>enwiki</td>\n",
       "      <td>6046911</td>\n",
       "      <td>6028510</td>\n",
       "      <td>0.996957</td>\n",
       "    </tr>\n",
       "    <tr>\n",
       "      <th>1</th>\n",
       "      <td>cebwiki</td>\n",
       "      <td>5378782</td>\n",
       "      <td>4763077</td>\n",
       "      <td>0.885531</td>\n",
       "    </tr>\n",
       "    <tr>\n",
       "      <th>2</th>\n",
       "      <td>svwiki</td>\n",
       "      <td>3735863</td>\n",
       "      <td>3731624</td>\n",
       "      <td>0.998865</td>\n",
       "    </tr>\n",
       "    <tr>\n",
       "      <th>3</th>\n",
       "      <td>dewiki</td>\n",
       "      <td>2414815</td>\n",
       "      <td>2409645</td>\n",
       "      <td>0.997859</td>\n",
       "    </tr>\n",
       "    <tr>\n",
       "      <th>4</th>\n",
       "      <td>frwiki</td>\n",
       "      <td>2195756</td>\n",
       "      <td>2191171</td>\n",
       "      <td>0.997912</td>\n",
       "    </tr>\n",
       "  </tbody>\n",
       "</table>\n",
       "</div>"
      ],
      "text/plain": [
       "   wiki_db  N_pages  N_sitelinks  fraction_sitelinks\n",
       "0   enwiki  6046911      6028510            0.996957\n",
       "1  cebwiki  5378782      4763077            0.885531\n",
       "2   svwiki  3735863      3731624            0.998865\n",
       "3   dewiki  2414815      2409645            0.997859\n",
       "4   frwiki  2195756      2191171            0.997912"
      ]
     },
     "execution_count": 68,
     "metadata": {},
     "output_type": "execute_result"
    }
   ],
   "source": [
    "df_count.head()"
   ]
  },
  {
   "cell_type": "code",
   "execution_count": 69,
   "metadata": {},
   "outputs": [],
   "source": [
    "df_count.to_csv('coverage_wikidata.csv')"
   ]
  },
  {
   "cell_type": "code",
   "execution_count": null,
   "metadata": {},
   "outputs": [],
   "source": []
  }
 ],
 "metadata": {
  "kernelspec": {
   "display_name": "venv_wmfdata",
   "language": "python",
   "name": "venv_wmfdata"
  },
  "language_info": {
   "codemirror_mode": {
    "name": "ipython",
    "version": 3
   },
   "file_extension": ".py",
   "mimetype": "text/x-python",
   "name": "python",
   "nbconvert_exporter": "python",
   "pygments_lexer": "ipython3",
   "version": "3.5.3"
  }
 },
 "nbformat": 4,
 "nbformat_minor": 2
}
